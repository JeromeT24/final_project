{
  "cells": [
    {
      "cell_type": "markdown",
      "metadata": {},
      "source": [
        "---\n",
        "title: \"Gapminder: Prostate cancer\"\n",
        "Author: \"Jerome Lwali\"\n",
        "format: dashboard\n",
        "theme: litera\n",
        "---\n",
        "\n",
        "# New Prostate Cancer cases 2019\n",
        "## Packages\n"
      ],
      "id": "2a080e32"
    },
    {
      "cell_type": "code",
      "metadata": {},
      "source": [
        "import pandas as pd\n",
        "import plotly.express as px\n",
        "import country_converter as coco\n",
        "import matplotlib.pyplot as plt\n",
        "from matplotlib.animation import FuncAnimation\n",
        "from itables import show"
      ],
      "id": "0dfb98e7",
      "execution_count": null,
      "outputs": []
    },
    {
      "cell_type": "markdown",
      "metadata": {},
      "source": [
        "## Data\n"
      ],
      "id": "9d210283"
    },
    {
      "cell_type": "code",
      "metadata": {},
      "source": [
        "new_prostate_cancer = pd.read_csv(\"data/prostate_cancer_number_of_new_male_cases.csv\")\n",
        "death_prostate_cancer =pd.read_csv(\"data/prostate_cancer_number_of_male_deaths.csv\")"
      ],
      "id": "2436e1d2",
      "execution_count": null,
      "outputs": []
    },
    {
      "cell_type": "markdown",
      "metadata": {},
      "source": [
        "## Selecting data for only 2019\n"
      ],
      "id": "d493c31d"
    },
    {
      "cell_type": "code",
      "metadata": {},
      "source": [
        "new_prostate_cancer_2019 = new_prostate_cancer[[\"country\", \"2019\"]]\n",
        "death_prostate_cancer_2019 = death_prostate_cancer[[\"country\", \"2019\"]]"
      ],
      "id": "0dd6795d",
      "execution_count": null,
      "outputs": []
    },
    {
      "cell_type": "markdown",
      "metadata": {},
      "source": [
        "## Renaming columns \n"
      ],
      "id": "e12b0aa4"
    },
    {
      "cell_type": "code",
      "metadata": {},
      "source": [
        "prostate_new_cases = new_prostate_cancer_2019.rename(columns={\"2019\": \"new_cases\"})\n",
        "prostate_deaths = death_prostate_cancer_2019.rename(\n",
        "    columns={\"2019\": \"number_of_deaths\"}\n",
        ")"
      ],
      "id": "b76dee7d",
      "execution_count": null,
      "outputs": []
    },
    {
      "cell_type": "markdown",
      "metadata": {},
      "source": [
        "## Cleaning data\n"
      ],
      "id": "8a36f913"
    },
    {
      "cell_type": "code",
      "metadata": {},
      "source": [
        "def process_value(val):\n",
        "    # Check if the value is a string and contains 'k'\n",
        "    if isinstance(val, str) and 'k' in val:\n",
        "        return float(val.replace('k', '')) * 1000\n",
        "    else:\n",
        "        # If it's already a float or doesn't contain 'k', return as a float\n",
        "        return float(val)\n",
        "\n",
        "# Apply the function to prostate new cases dataset\n",
        "prostate_new_cases['new_cases'] = prostate_new_cases['new_cases'].apply(process_value)"
      ],
      "id": "2b22ed65",
      "execution_count": null,
      "outputs": []
    },
    {
      "cell_type": "code",
      "metadata": {},
      "source": [
        "# Apply the function to prostate deaths dataset\n",
        "prostate_deaths['number_of_deaths'] = prostate_deaths['number_of_deaths'].apply(process_value)"
      ],
      "id": "1c657698",
      "execution_count": null,
      "outputs": []
    },
    {
      "cell_type": "markdown",
      "metadata": {},
      "source": [
        "## Adding country codes on datasets\n"
      ],
      "id": "c8769893"
    },
    {
      "cell_type": "code",
      "metadata": {},
      "source": [
        "# Convert country names to ISO3 country codes\n",
        "prostate_new_cases[\"country_code\"] = prostate_new_cases[\"country\"].apply(\n",
        "    coco.convert, to=\"ISO3\"\n",
        ")\n",
        "\n",
        "prostate_deaths[\"country_code\"] = prostate_deaths[\"country\"].apply(\n",
        "    coco.convert, to=\"ISO3\"\n",
        ")"
      ],
      "id": "8d6b5a78",
      "execution_count": null,
      "outputs": []
    },
    {
      "cell_type": "code",
      "metadata": {},
      "source": [
        "# Update the country codes for specific countries\n",
        "update_dict = {\"UAE\": \"UAE\", \"Serbia and Montenegro\": \"SCG\"}\n",
        "\n",
        "prostate_new_cases[\"country_code\"] = prostate_new_cases.apply(\n",
        "    lambda row: (\n",
        "        update_dict[row[\"country\"]]\n",
        "        if row[\"country\"] in update_dict\n",
        "        else row[\"country_code\"]\n",
        "    ),\n",
        "    axis=1,\n",
        ")\n",
        "\n",
        "prostate_deaths[\"country_code\"] = prostate_deaths.apply(\n",
        "    lambda row: (\n",
        "        update_dict[row[\"country\"]]\n",
        "        if row[\"country\"] in update_dict\n",
        "        else row[\"country_code\"]\n",
        "    ),\n",
        "    axis=1,\n",
        ")"
      ],
      "id": "904cea92",
      "execution_count": null,
      "outputs": []
    },
    {
      "cell_type": "code",
      "metadata": {},
      "source": [
        "# Data to display on value boxes\n",
        "# Find the row with the maximum and minimum number of cases\n",
        "max_cases_row = prostate_new_cases.loc[prostate_new_cases[\"new_cases\"].idxmax()]\n",
        "\n",
        "min_cases_row = prostate_new_cases.loc[prostate_new_cases[\"new_cases\"].idxmin()]\n",
        "\n",
        "max_deaths = prostate_deaths.loc[prostate_deaths[\"number_of_deaths\"].idxmax()]\n",
        "\n",
        "min_deaths = prostate_deaths.loc[prostate_deaths[\"number_of_deaths\"].idxmin()]\n",
        "\n",
        "# Display the country name and the number of cases\n",
        "country_with_max_cases = max_cases_row[\"country\"]\n",
        "number_of_cases = max_cases_row[\"new_cases\"]\n",
        "\n",
        "country_with_min_cases = min_cases_row[\"country\"]\n",
        "min_number_of_cases = min_cases_row[\"new_cases\"]\n",
        "\n",
        "country_max_deaths = max_deaths[\"country\"]\n",
        "number_of_deaths = max_deaths[\"number_of_deaths\"]\n",
        "\n",
        "country_min_deaths = min_deaths[\"country\"]\n",
        "min_number_of_deaths = min_deaths[\"number_of_deaths\"]"
      ],
      "id": "19b53d4f",
      "execution_count": null,
      "outputs": []
    },
    {
      "cell_type": "markdown",
      "metadata": {},
      "source": [
        "## {height=\"20%\"}\n",
        "\n",
        "::: {.valuebox title=\"Highest number of new cases in 2019\" color=\"danger\" icon=\"arrow-up\"}\n",
        "**Country:** `{python} country_with_max_cases`\n",
        "\n",
        "**Number of cases:** `{python} float(number_of_cases)`\n",
        ":::\n",
        "\n",
        "::: {.valuebox title=\"Lowest number of new cases in 2019\" color=\"info\" icon=\"arrow-down\"}\n",
        "**Country:** `{python} country_with_min_cases`\n",
        "\n",
        "**Number of cases:** `{python} float(min_number_of_cases)`\n",
        ":::\n",
        "\n",
        "::: {.valuebox title=\"Highest number of deaths in 2019\" color=\"danger\" icon=\"arrow-up\"}\n",
        "**Country:** `{python} country_max_deaths`\n",
        "\n",
        "**Number of deaths:** `{python} float(number_of_deaths)`\n",
        ":::\n",
        "\n",
        "::: {.valuebox title=\"Lowest number of deaths in 2019\" color=\"info\" icon=\"arrow-down\"}\n",
        "**Country:** `{python} country_min_deaths`\n",
        "\n",
        "**Number of deaths:** `{python} float(min_number_of_deaths)`\n",
        ":::\n",
        "\n",
        "## Creating a map showing new cases\n"
      ],
      "id": "f9ca2faf"
    },
    {
      "cell_type": "code",
      "metadata": {},
      "source": [
        "# Create the choropleth map\n",
        "fig = px.choropleth(\n",
        "    prostate_new_cases,\n",
        "    locations=\"country_code\",  # Column with ISO country codes\n",
        "    color=\"new_cases\",  # Column with data to be visualized\n",
        "    hover_name=\"country\",  # Column to display on hover\n",
        "    color_continuous_scale=\"Reds\",  # Color scale\n",
        "    title=\"World Map showing Prostate cancer Number of New Cases in 2019\",\n",
        ")\n",
        "\n",
        "# Update layout for better appearance, center the title, and adjust size\n",
        "fig.update_layout(\n",
        "    geo=dict(showframe=False, showcoastlines=True, projection_type=\"equirectangular\"),\n",
        "    coloraxis_colorbar=dict(title=\"Number of Cases\"),\n",
        "    title_x=0.5,  # Center the title\n",
        "    autosize=True,  # Enable autosizing for responsiveness\n",
        ")"
      ],
      "id": "f449fd1f",
      "execution_count": null,
      "outputs": []
    },
    {
      "cell_type": "markdown",
      "metadata": {},
      "source": [
        "# New cases vs deaths in 2019\n",
        "## Row {height=\"50%\"}\n",
        "### Column {width=\"50%\"}\n"
      ],
      "id": "7fcf148a"
    },
    {
      "cell_type": "code",
      "metadata": {},
      "source": [
        "# Top 10 countries with highest new cases of prostate cancer in 2019\n",
        "top_10_new_cases = prostate_new_cases.nlargest(10, \"new_cases\")"
      ],
      "id": "0e1cbca0",
      "execution_count": null,
      "outputs": []
    },
    {
      "cell_type": "code",
      "metadata": {},
      "source": [
        "fig1 = px.histogram(\n",
        "    top_10_new_cases,\n",
        "    x=\"country\",\n",
        "    y=\"new_cases\",\n",
        "    labels={\"country\": \"Country\", \"new_cases\": \"Number of new cases\"},\n",
        "    color=\"country\",\n",
        "    text_auto=True,\n",
        "    title=\"Top 10 countries with the highest new cases of prostate cancer in 2019\",\n",
        ")\n",
        "\n",
        "# Center-align the title\n",
        "fig1.update_layout(\n",
        "    title={\n",
        "        \"text\": \"Top 10 countries with the highest new cases of prostate cancer in 2019\",\n",
        "        \"x\": 0.5,  # Centers the title\n",
        "        \"xanchor\": \"center\",\n",
        "        \"yanchor\": \"top\",\n",
        "        \"y\": 0.99,  # Adjusts the vertical position of the title\n",
        "    },\n",
        "    yaxis_title=\"Number of new cases\",  # Explicitly set the Y-axis label\n",
        "    showlegend=False,  # Remove the legend\n",
        ")"
      ],
      "id": "94dc2393",
      "execution_count": null,
      "outputs": []
    },
    {
      "cell_type": "markdown",
      "metadata": {},
      "source": [
        "### Column {width=\"50%\"}\n"
      ],
      "id": "e0ea8aa2"
    },
    {
      "cell_type": "code",
      "metadata": {},
      "source": [
        "# Ten countries with least new cases of prostate cancer in 2019\n",
        "ten_least_country = prostate_new_cases.nsmallest(10, \"new_cases\")"
      ],
      "id": "f6fe282a",
      "execution_count": null,
      "outputs": []
    },
    {
      "cell_type": "markdown",
      "metadata": {},
      "source": [
        "**Ten countries with fewest new cases of prostate cancer in 2019**\n"
      ],
      "id": "f1891d5a"
    },
    {
      "cell_type": "code",
      "metadata": {},
      "source": [
        "ten_least = ten_least_country.drop(columns=[\"country_code\"])\n",
        "# Remove the index and add a serial number column\n",
        "ten_least.reset_index(drop=True)\n",
        "\n",
        "# Display title and dataset\n",
        "print(ten_least.insert(0, \"Sn\", range(1, 1 + len(ten_least))))"
      ],
      "id": "b0d13e39",
      "execution_count": null,
      "outputs": []
    },
    {
      "cell_type": "markdown",
      "metadata": {},
      "source": [
        "## Row {height=\"50%\"}\n",
        "### Column {width=\"50%\"}\n"
      ],
      "id": "fa794572"
    },
    {
      "cell_type": "code",
      "metadata": {},
      "source": [
        "top_10_deaths = prostate_deaths.nlargest(10, \"number_of_deaths\")"
      ],
      "id": "307d6a21",
      "execution_count": null,
      "outputs": []
    },
    {
      "cell_type": "code",
      "metadata": {},
      "source": [
        "fig2 = px.histogram(\n",
        "    top_10_deaths,\n",
        "    x=\"country\",\n",
        "    y=\"number_of_deaths\",\n",
        "    labels={\"country\": \"Country\", \"number_of_deaths\": \"Number of deaths\"},\n",
        "    color=\"country\",\n",
        "    text_auto=True,\n",
        "    title=\"Top 10 countries with the highest deaths from prostate cancer in 2019\",\n",
        ")\n",
        "\n",
        "# Center-align the title\n",
        "fig2.update_layout(\n",
        "    title={\n",
        "        \"text\": \"Top 10 countries with the highest deaths from prostate cancer in 2019\",\n",
        "        \"x\": 0.5,  # Centers the title\n",
        "        \"xanchor\": \"center\",\n",
        "        \"yanchor\": \"top\",\n",
        "        \"y\": 0.99,  # Adjusts the vertical position of the title\n",
        "    },\n",
        "    yaxis_title=\"Number of deaths\",  # Explicitly set the Y-axis label\n",
        "    showlegend=False,  # Remove the legend\n",
        ")"
      ],
      "id": "289b0efd",
      "execution_count": null,
      "outputs": []
    },
    {
      "cell_type": "markdown",
      "metadata": {},
      "source": [
        "### Column {width=\"50%\"}\n"
      ],
      "id": "99e6c112"
    },
    {
      "cell_type": "code",
      "metadata": {},
      "source": [
        "ten_least_deaths = prostate_deaths.nsmallest(10, \"number_of_deaths\")"
      ],
      "id": "7acd4df9",
      "execution_count": null,
      "outputs": []
    },
    {
      "cell_type": "markdown",
      "metadata": {},
      "source": [
        "**Ten countries with fewest deaths of prostate cancer in 2019**\n"
      ],
      "id": "329e13ee"
    },
    {
      "cell_type": "code",
      "metadata": {},
      "source": [
        "ten_least_countries_deaths = ten_least_deaths.drop(columns=[\"country_code\"])\n",
        "# Remove the index and add a serial number column\n",
        "ten_least_countries_deaths.reset_index(drop=True)\n",
        "\n",
        "# Display title and dataset\n",
        "print(\n",
        "    ten_least_countries_deaths.insert(\n",
        "        0, \"Sn\", range(1, 1 + len(ten_least_countries_deaths))\n",
        "    )\n",
        ")"
      ],
      "id": "8f2a4d5a",
      "execution_count": null,
      "outputs": []
    },
    {
      "cell_type": "markdown",
      "metadata": {},
      "source": [
        "# New Prostate cancer from 1990 to 2019\n"
      ],
      "id": "02559719"
    },
    {
      "cell_type": "code",
      "metadata": {},
      "source": [
        "# Convert data to long format\n",
        "new_prostate_cancer_long = new_prostate_cancer.melt(\n",
        "    id_vars=[\"country\"], var_name=\"year\", value_name=\"new_cases\"\n",
        ").sort_values(by=[\"country\", \"year\"])\n",
        "\n",
        "# Convert country names to ISO3 country codes\n",
        "new_prostate_cancer_long[\"country_code\"] = new_prostate_cancer_long[\"country\"].apply(\n",
        "    coco.convert, to=\"ISO3\"\n",
        ")\n",
        "\n",
        "# Update the country codes for specific countries\n",
        "update_dict = {\"UAE\": \"UAE\", \"Serbia and Montenegro\": \"SCG\"}\n",
        "\n",
        "new_prostate_cancer_long[\"country_code\"] = new_prostate_cancer_long.apply(\n",
        "    lambda row: (\n",
        "        update_dict[row[\"country\"]]\n",
        "        if row[\"country\"] in update_dict\n",
        "        else row[\"country_code\"]\n",
        "    ),\n",
        "    axis=1,\n",
        ")\n",
        "\n",
        "# Arrange columns\n",
        "new_prostate_cancer_long = new_prostate_cancer_long[\"country\", \"country_code\", \"year\", \"new_cases\"]"
      ],
      "id": "e84e36ac",
      "execution_count": null,
      "outputs": []
    },
    {
      "cell_type": "code",
      "metadata": {},
      "source": [
        "# Create an animated choropleth map\n",
        "fig2 = px.choropleth(\n",
        "    new_prostate_cancer_long,\n",
        "    locations=\"country_code\",  # Column with ISO country codes\n",
        "    color=\"new_cases\",  # Column with data to be visualized\n",
        "    hover_name=\"country\",  # Column to display on hover\n",
        "    color_continuous_scale=\"Reds\",  # Color scale\n",
        "    title=\"World Map showing Prostate Cancer New Cases (1990-2019)\",\n",
        "    animation_frame=\"year\",  # Enables animation over time\n",
        "    projection=\"equirectangular\",  # Map projection type\n",
        ")\n",
        "\n",
        "# Update layout for better appearance\n",
        "fig2.update_layout(\n",
        "    geo=dict(showframe=False, showcoastlines=True),\n",
        "    coloraxis_colorbar=dict(title=\"Number of Cases\"),\n",
        "    title_x=0.5,  # Center the title\n",
        "    autosize=True,  # Enable autosizing for responsiveness\n",
        ")"
      ],
      "id": "a75a5720",
      "execution_count": null,
      "outputs": []
    },
    {
      "cell_type": "markdown",
      "metadata": {},
      "source": [
        "# All countries Prostate Cancer data 2019\n",
        "## Merging New cases and Deaths datasets\n"
      ],
      "id": "faedcfdf"
    },
    {
      "cell_type": "code",
      "metadata": {},
      "source": [
        "prostate_cancer = pd.merge(prostate_new_cases, prostate_deaths)\n",
        "prostate_cancer_2019 = prostate_cancer[\n",
        "    [\"country_code\", \"country\", \"new_cases\", \"number_of_deaths\"]\n",
        "]\n",
        "show(prostate_cancer_2019)\n",
        "# print(prostate_cancer_2019.to_string())"
      ],
      "id": "3b67007c",
      "execution_count": null,
      "outputs": []
    }
  ],
  "metadata": {
    "kernelspec": {
      "name": "python3",
      "language": "python",
      "display_name": "Python 3 (ipykernel)",
      "path": "c:\\Users\\CDCIPC\\Documents\\GitHub\\final_project\\.venv\\share\\jupyter\\kernels\\python3"
    }
  },
  "nbformat": 4,
  "nbformat_minor": 5
}